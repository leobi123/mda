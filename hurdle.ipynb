{
  "nbformat": 4,
  "nbformat_minor": 0,
  "metadata": {
    "colab": {
      "provenance": [],
      "authorship_tag": "ABX9TyO6NGz/L6Fa4D/LIt4o1GTR",
      "include_colab_link": true
    },
    "kernelspec": {
      "name": "python3",
      "display_name": "Python 3"
    },
    "language_info": {
      "name": "python"
    }
  },
  "cells": [
    {
      "cell_type": "markdown",
      "metadata": {
        "id": "view-in-github",
        "colab_type": "text"
      },
      "source": [
        "<a href=\"https://colab.research.google.com/github/leobi123/mda/blob/main/hurdle.ipynb\" target=\"_parent\"><img src=\"https://colab.research.google.com/assets/colab-badge.svg\" alt=\"Open In Colab\"/></a>"
      ]
    },
    {
      "cell_type": "code",
      "execution_count": null,
      "metadata": {
        "colab": {
          "base_uri": "https://localhost:8080/",
          "height": 837
        },
        "id": "VtOql-SbXqpc",
        "outputId": "f2f8df4d-0aea-434c-8e87-21ac33d9e50c"
      },
      "outputs": [
        {
          "output_type": "display_data",
          "data": {
            "text/plain": [
              "<IPython.core.display.HTML object>"
            ],
            "text/html": [
              "\n",
              "     <input type=\"file\" id=\"files-bd935698-88a0-4c0d-bf04-6cd2bbee4c2e\" name=\"files[]\" multiple disabled\n",
              "        style=\"border:none\" />\n",
              "     <output id=\"result-bd935698-88a0-4c0d-bf04-6cd2bbee4c2e\">\n",
              "      Upload widget is only available when the cell has been executed in the\n",
              "      current browser session. Please rerun this cell to enable.\n",
              "      </output>\n",
              "      <script>// Copyright 2017 Google LLC\n",
              "//\n",
              "// Licensed under the Apache License, Version 2.0 (the \"License\");\n",
              "// you may not use this file except in compliance with the License.\n",
              "// You may obtain a copy of the License at\n",
              "//\n",
              "//      http://www.apache.org/licenses/LICENSE-2.0\n",
              "//\n",
              "// Unless required by applicable law or agreed to in writing, software\n",
              "// distributed under the License is distributed on an \"AS IS\" BASIS,\n",
              "// WITHOUT WARRANTIES OR CONDITIONS OF ANY KIND, either express or implied.\n",
              "// See the License for the specific language governing permissions and\n",
              "// limitations under the License.\n",
              "\n",
              "/**\n",
              " * @fileoverview Helpers for google.colab Python module.\n",
              " */\n",
              "(function(scope) {\n",
              "function span(text, styleAttributes = {}) {\n",
              "  const element = document.createElement('span');\n",
              "  element.textContent = text;\n",
              "  for (const key of Object.keys(styleAttributes)) {\n",
              "    element.style[key] = styleAttributes[key];\n",
              "  }\n",
              "  return element;\n",
              "}\n",
              "\n",
              "// Max number of bytes which will be uploaded at a time.\n",
              "const MAX_PAYLOAD_SIZE = 100 * 1024;\n",
              "\n",
              "function _uploadFiles(inputId, outputId) {\n",
              "  const steps = uploadFilesStep(inputId, outputId);\n",
              "  const outputElement = document.getElementById(outputId);\n",
              "  // Cache steps on the outputElement to make it available for the next call\n",
              "  // to uploadFilesContinue from Python.\n",
              "  outputElement.steps = steps;\n",
              "\n",
              "  return _uploadFilesContinue(outputId);\n",
              "}\n",
              "\n",
              "// This is roughly an async generator (not supported in the browser yet),\n",
              "// where there are multiple asynchronous steps and the Python side is going\n",
              "// to poll for completion of each step.\n",
              "// This uses a Promise to block the python side on completion of each step,\n",
              "// then passes the result of the previous step as the input to the next step.\n",
              "function _uploadFilesContinue(outputId) {\n",
              "  const outputElement = document.getElementById(outputId);\n",
              "  const steps = outputElement.steps;\n",
              "\n",
              "  const next = steps.next(outputElement.lastPromiseValue);\n",
              "  return Promise.resolve(next.value.promise).then((value) => {\n",
              "    // Cache the last promise value to make it available to the next\n",
              "    // step of the generator.\n",
              "    outputElement.lastPromiseValue = value;\n",
              "    return next.value.response;\n",
              "  });\n",
              "}\n",
              "\n",
              "/**\n",
              " * Generator function which is called between each async step of the upload\n",
              " * process.\n",
              " * @param {string} inputId Element ID of the input file picker element.\n",
              " * @param {string} outputId Element ID of the output display.\n",
              " * @return {!Iterable<!Object>} Iterable of next steps.\n",
              " */\n",
              "function* uploadFilesStep(inputId, outputId) {\n",
              "  const inputElement = document.getElementById(inputId);\n",
              "  inputElement.disabled = false;\n",
              "\n",
              "  const outputElement = document.getElementById(outputId);\n",
              "  outputElement.innerHTML = '';\n",
              "\n",
              "  const pickedPromise = new Promise((resolve) => {\n",
              "    inputElement.addEventListener('change', (e) => {\n",
              "      resolve(e.target.files);\n",
              "    });\n",
              "  });\n",
              "\n",
              "  const cancel = document.createElement('button');\n",
              "  inputElement.parentElement.appendChild(cancel);\n",
              "  cancel.textContent = 'Cancel upload';\n",
              "  const cancelPromise = new Promise((resolve) => {\n",
              "    cancel.onclick = () => {\n",
              "      resolve(null);\n",
              "    };\n",
              "  });\n",
              "\n",
              "  // Wait for the user to pick the files.\n",
              "  const files = yield {\n",
              "    promise: Promise.race([pickedPromise, cancelPromise]),\n",
              "    response: {\n",
              "      action: 'starting',\n",
              "    }\n",
              "  };\n",
              "\n",
              "  cancel.remove();\n",
              "\n",
              "  // Disable the input element since further picks are not allowed.\n",
              "  inputElement.disabled = true;\n",
              "\n",
              "  if (!files) {\n",
              "    return {\n",
              "      response: {\n",
              "        action: 'complete',\n",
              "      }\n",
              "    };\n",
              "  }\n",
              "\n",
              "  for (const file of files) {\n",
              "    const li = document.createElement('li');\n",
              "    li.append(span(file.name, {fontWeight: 'bold'}));\n",
              "    li.append(span(\n",
              "        `(${file.type || 'n/a'}) - ${file.size} bytes, ` +\n",
              "        `last modified: ${\n",
              "            file.lastModifiedDate ? file.lastModifiedDate.toLocaleDateString() :\n",
              "                                    'n/a'} - `));\n",
              "    const percent = span('0% done');\n",
              "    li.appendChild(percent);\n",
              "\n",
              "    outputElement.appendChild(li);\n",
              "\n",
              "    const fileDataPromise = new Promise((resolve) => {\n",
              "      const reader = new FileReader();\n",
              "      reader.onload = (e) => {\n",
              "        resolve(e.target.result);\n",
              "      };\n",
              "      reader.readAsArrayBuffer(file);\n",
              "    });\n",
              "    // Wait for the data to be ready.\n",
              "    let fileData = yield {\n",
              "      promise: fileDataPromise,\n",
              "      response: {\n",
              "        action: 'continue',\n",
              "      }\n",
              "    };\n",
              "\n",
              "    // Use a chunked sending to avoid message size limits. See b/62115660.\n",
              "    let position = 0;\n",
              "    do {\n",
              "      const length = Math.min(fileData.byteLength - position, MAX_PAYLOAD_SIZE);\n",
              "      const chunk = new Uint8Array(fileData, position, length);\n",
              "      position += length;\n",
              "\n",
              "      const base64 = btoa(String.fromCharCode.apply(null, chunk));\n",
              "      yield {\n",
              "        response: {\n",
              "          action: 'append',\n",
              "          file: file.name,\n",
              "          data: base64,\n",
              "        },\n",
              "      };\n",
              "\n",
              "      let percentDone = fileData.byteLength === 0 ?\n",
              "          100 :\n",
              "          Math.round((position / fileData.byteLength) * 100);\n",
              "      percent.textContent = `${percentDone}% done`;\n",
              "\n",
              "    } while (position < fileData.byteLength);\n",
              "  }\n",
              "\n",
              "  // All done.\n",
              "  yield {\n",
              "    response: {\n",
              "      action: 'complete',\n",
              "    }\n",
              "  };\n",
              "}\n",
              "\n",
              "scope.google = scope.google || {};\n",
              "scope.google.colab = scope.google.colab || {};\n",
              "scope.google.colab._files = {\n",
              "  _uploadFiles,\n",
              "  _uploadFilesContinue,\n",
              "};\n",
              "})(self);\n",
              "</script> "
            ]
          },
          "metadata": {}
        },
        {
          "output_type": "stream",
          "name": "stdout",
          "text": [
            "Saving data_new_with_quality_scores.csv to data_new_with_quality_scores.csv\n",
            "Data shape: (14731, 23)\n",
            "   projectID  status   startDate     endDate  totalCost  ecMaxContribution  \\\n",
            "0  101116741  SIGNED  2024-02-01  2029-01-31    1499998            1499998   \n",
            "1  101162875  SIGNED  2025-03-01  2030-02-28    1500000            1500000   \n",
            "2  101167314  SIGNED  2025-04-01  2031-03-31   11982258           11982258   \n",
            "3  101072693  SIGNED  2022-08-01  2024-07-31     100000             100000   \n",
            "4  101172406  SIGNED  2024-07-01  2025-12-31     608440             300000   \n",
            "\n",
            "   OQI_month_norm country           region  region_code  ... sub_fund_code  \\\n",
            "0        0.000000      NL   Western Europe            1  ...             1   \n",
            "1        0.000000      IT  Southern Europe            3  ...             1   \n",
            "2        0.000000      IT  Southern Europe            3  ...             1   \n",
            "3        0.021259      UA   Eastern Europe            4  ...             4   \n",
            "4        0.000000      PL   Eastern Europe            4  ...             4   \n",
            "\n",
            "   organizationCount countryCount  europeanCountryCount  \\\n",
            "0                  1            1                     1   \n",
            "1                  2            2                     2   \n",
            "2                  4            4                     3   \n",
            "3                  1            1                     0   \n",
            "4                  1            1                     1   \n",
            "\n",
            "   countryDiversityIndex  europeanOrganizationRatio  \\\n",
            "0                 0.0000                       1.00   \n",
            "1                 0.6931                       1.00   \n",
            "2                 1.3863                       0.75   \n",
            "3                 0.0000                       0.00   \n",
            "4                 0.0000                       1.00   \n",
            "\n",
            "   geoCentralizationIndex(KM)  crossSectorCollaborationIndex  \\\n",
            "0                        0.00                         0.0000   \n",
            "1                      708.10                         0.0000   \n",
            "2                     2646.68                         0.5623   \n",
            "3                        0.00                         0.0000   \n",
            "4                        0.00                         0.0000   \n",
            "\n",
            "   fundingEqualityIndex  quality_score_scaled  \n",
            "0                1.0000              0.000000  \n",
            "1                0.5333              0.000000  \n",
            "2                0.9696              0.000000  \n",
            "3                1.0000              0.270017  \n",
            "4                1.0000              0.000000  \n",
            "\n",
            "[5 rows x 23 columns]\n"
          ]
        }
      ],
      "source": [
        "# === Cell 1: Upload and load new dataset ===\n",
        "\n",
        "from google.colab import files\n",
        "uploaded = files.upload()  # 'data_new.csv'\n",
        "\n",
        "import io\n",
        "import pandas as pd\n",
        "\n",
        "# Read the uploaded CSV into a DataFrame\n",
        "df = pd.read_csv(io.BytesIO(uploaded[list(uploaded.keys())[0]]))\n",
        "\n",
        "# Preview\n",
        "print(\"Data shape:\", df.shape)\n",
        "print(df.head())\n"
      ]
    },
    {
      "cell_type": "code",
      "source": [
        "# === Cell 2: Define target, features & split ===\n",
        "\n",
        "# Target and binary label\n",
        "y = df['OQI_month_norm']\n",
        "is_positive = (y > 0).astype(int)\n",
        "\n",
        "# Feature lists\n",
        "categorical_features = ['region_code', 'topic_code', 'sub_fund_code']\n",
        "numeric_features = [\n",
        "    'ecMaxContribution', 'totalCost', 'organizationCount',\n",
        "    'countryCount', 'europeanCountryCount', 'countryDiversityIndex',\n",
        "    'europeanOrganizationRatio', 'geoCentralizationIndex(KM)',\n",
        "    'crossSectorCollaborationIndex', 'fundingEqualityIndex'\n",
        "]\n",
        "\n",
        "# Build feature matrix\n",
        "X = df[categorical_features + numeric_features]\n",
        "\n",
        "from sklearn.model_selection import train_test_split\n",
        "\n",
        "# Classification split (zero vs non-zero)\n",
        "X_cls_train, X_cls_test, y_cls_train, y_cls_test = train_test_split(\n",
        "    X, is_positive, test_size=0.2, random_state=42\n",
        ")\n",
        "\n",
        "# Regression split (only positive samples)\n",
        "mask = (y > 0)\n",
        "X_reg_train, X_reg_test, y_reg_train, y_reg_test = train_test_split(\n",
        "    X[mask], y[mask], test_size=0.2, random_state=42\n",
        ")\n",
        "\n",
        "# Confirm shapes\n",
        "print(\"Classification train/test:\", X_cls_train.shape, X_cls_test.shape)\n",
        "print(\"Regression train/test:   \", X_reg_train.shape, X_reg_test.shape)\n"
      ],
      "metadata": {
        "colab": {
          "base_uri": "https://localhost:8080/"
        },
        "id": "fVIeUBQGYdtW",
        "outputId": "a4b0a0fe-cdcd-4d24-e994-051a592d6862"
      },
      "execution_count": null,
      "outputs": [
        {
          "output_type": "stream",
          "name": "stdout",
          "text": [
            "Classification train/test: (11784, 13) (2947, 13)\n",
            "Regression train/test:    (5348, 13) (1337, 13)\n"
          ]
        }
      ]
    },
    {
      "cell_type": "code",
      "source": [
        "# === Cell 3: Hurdle Model with Proper Factor Encoding & Evaluation ===\n",
        "\n",
        "from sklearn.compose import ColumnTransformer\n",
        "from sklearn.preprocessing import OneHotEncoder, StandardScaler\n",
        "from sklearn.pipeline import Pipeline\n",
        "from sklearn.ensemble import RandomForestClassifier, GradientBoostingRegressor\n",
        "from sklearn.metrics import (\n",
        "    accuracy_score, precision_score, recall_score, f1_score, roc_auc_score,\n",
        "    confusion_matrix, mean_squared_error, r2_score\n",
        ")\n",
        "\n",
        "# Preprocessor: one-hot encode categorical, standardize numeric\n",
        "preprocessor = ColumnTransformer([\n",
        "    ('cat', OneHotEncoder(handle_unknown='ignore'), categorical_features),\n",
        "    ('num', StandardScaler(), numeric_features)\n",
        "])\n",
        "\n",
        "# Classification pipeline\n",
        "clf_pipeline = Pipeline([\n",
        "    ('preprocessor', preprocessor),\n",
        "    ('classifier', RandomForestClassifier(n_estimators=100, random_state=42))\n",
        "])\n",
        "clf_pipeline.fit(X_cls_train, y_cls_train)\n",
        "\n",
        "# Regression pipeline\n",
        "reg_pipeline = Pipeline([\n",
        "    ('preprocessor', preprocessor),\n",
        "    ('regressor', GradientBoostingRegressor(random_state=42))\n",
        "])\n",
        "reg_pipeline.fit(X_reg_train, y_reg_train)\n",
        "\n",
        "# Classification evaluation\n",
        "y_cls_pred = clf_pipeline.predict(X_cls_test)\n",
        "y_cls_proba = clf_pipeline.predict_proba(X_cls_test)[:,1]\n",
        "print(\"Classification Metrics:\")\n",
        "print(\"  Accuracy :\", accuracy_score(y_cls_test, y_cls_pred))\n",
        "print(\"  Precision:\", precision_score(y_cls_test, y_cls_pred))\n",
        "print(\"  Recall   :\", recall_score(y_cls_test, y_cls_pred))\n",
        "print(\"  F1 Score :\", f1_score(y_cls_test, y_cls_pred))\n",
        "print(\"  ROC AUC  :\", roc_auc_score(y_cls_test, y_cls_proba))\n",
        "print(\"  Confusion Matrix:\\n\", confusion_matrix(y_cls_test, y_cls_pred))\n",
        "\n",
        "# Regression evaluation\n",
        "y_reg_pred = reg_pipeline.predict(X_reg_test)\n",
        "mse = mean_squared_error(y_reg_test, y_reg_pred)\n",
        "rmse = mse ** 0.5\n",
        "print(\"\\nRegression Metrics:\")\n",
        "print(\"  MSE :\", mse)\n",
        "print(\"  RMSE:\", rmse)\n",
        "print(\"  R2  :\", r2_score(y_reg_test, y_reg_pred))\n"
      ],
      "metadata": {
        "colab": {
          "base_uri": "https://localhost:8080/"
        },
        "id": "qvGuTZXdcf7J",
        "outputId": "9b78fb7d-c2c1-4381-e400-8fd609d9d4c9"
      },
      "execution_count": null,
      "outputs": [
        {
          "output_type": "stream",
          "name": "stdout",
          "text": [
            "Classification Metrics:\n",
            "  Accuracy : 0.5734645402103834\n",
            "  Precision: 0.5451388888888888\n",
            "  Recall   : 0.35280898876404493\n",
            "  F1 Score : 0.42837653478854026\n",
            "  ROC AUC  : 0.5899046012583525\n",
            "  Confusion Matrix:\n",
            " [[1219  393]\n",
            " [ 864  471]]\n",
            "\n",
            "Regression Metrics:\n",
            "  MSE : 0.0002733662345221652\n",
            "  RMSE: 0.016533790688228914\n",
            "  R2  : 0.32404120944133485\n"
          ]
        }
      ]
    },
    {
      "cell_type": "code",
      "source": [
        "# === Cell 4: GradientBoostingRegressor Feature Importances ===\n",
        "\n",
        "import pandas as pd\n",
        "import matplotlib.pyplot as plt\n",
        "\n",
        "# 1. Extract the preprocessed feature names\n",
        "feature_names = reg_pipeline.named_steps['preprocessor'].get_feature_names_out()\n",
        "\n",
        "# 2. Get the regressor's feature_importances_\n",
        "importances_reg = reg_pipeline.named_steps['regressor'].feature_importances_\n",
        "\n",
        "# 3. Build a DataFrame and sort by importance descending\n",
        "reg_imp_df = pd.DataFrame({\n",
        "    'feature': feature_names,\n",
        "    'importance': importances_reg\n",
        "}).sort_values('importance', ascending=False).reset_index(drop=True)\n",
        "\n",
        "# 4. Display the top 10 most important features\n",
        "print(\"Top 10 Feature Importances (GradientBoostingRegressor):\")\n",
        "print(reg_imp_df.head(10))\n",
        "\n",
        "# 5. Plot the top 10 as a horizontal bar chart\n",
        "top_n = 10\n",
        "top_feats = reg_imp_df.head(top_n)\n",
        "plt.figure(figsize=(10, 6))\n",
        "plt.barh(top_feats['feature'][::-1], top_feats['importance'][::-1])\n",
        "plt.xlabel('Importance')\n",
        "plt.title('Top 10 Feature Importances – GradientBoostingRegressor')\n",
        "plt.tight_layout()\n",
        "plt.show()\n"
      ],
      "metadata": {
        "colab": {
          "base_uri": "https://localhost:8080/",
          "height": 815
        },
        "id": "XfK9G0aeAQdE",
        "outputId": "67ff1755-ebe1-419a-8ddc-ac602311e91f"
      },
      "execution_count": null,
      "outputs": [
        {
          "output_type": "stream",
          "name": "stdout",
          "text": [
            "Top 10 Feature Importances (GradientBoostingRegressor):\n",
            "                              feature  importance\n",
            "0           num__fundingEqualityIndex    0.370567\n",
            "1              num__organizationCount    0.229957\n",
            "2           num__europeanCountryCount    0.072845\n",
            "3                      num__totalCost    0.070029\n",
            "4          num__countryDiversityIndex    0.049606\n",
            "5                   cat__topic_code_4    0.039581\n",
            "6  num__crossSectorCollaborationIndex    0.024126\n",
            "7              num__ecMaxContribution    0.022657\n",
            "8      num__europeanOrganizationRatio    0.021461\n",
            "9                cat__sub_fund_code_1    0.020105\n"
          ]
        },
        {
          "output_type": "display_data",
          "data": {
            "text/plain": [
              "<Figure size 1000x600 with 1 Axes>"
            ],
            "image/png": "[encoded data removed]"
          },
          "metadata": {}
        }
      ]
    },
    {
      "cell_type": "code",
      "source": [
        "# === Cell 4: Try HistGradientBoostingClassifier on the classification step ===\n",
        "\n",
        "from sklearn.ensemble import HistGradientBoostingClassifier\n",
        "from sklearn.pipeline import Pipeline\n",
        "from sklearn.metrics import (\n",
        "    accuracy_score, precision_score, recall_score,\n",
        "    f1_score, roc_auc_score, confusion_matrix\n",
        ")\n",
        "\n",
        "# Build a new pipeline reusing the existing preprocessor\n",
        "hgb_clf = Pipeline([\n",
        "    ('preprocessor', preprocessor),\n",
        "    ('hgb', HistGradientBoostingClassifier(random_state=42))\n",
        "])\n",
        "\n",
        "# Train on the same classification split\n",
        "hgb_clf.fit(X_cls_train, y_cls_train)\n",
        "\n",
        "# Evaluate on the test set\n",
        "y_hgb_pred  = hgb_clf.predict(X_cls_test)\n",
        "y_hgb_proba = hgb_clf.predict_proba(X_cls_test)[:, 1]\n",
        "\n",
        "print(\"HistGradientBoostingClassifier Metrics:\")\n",
        "print(\"  Accuracy :\", accuracy_score(y_cls_test, y_hgb_pred))\n",
        "print(\"  Precision:\", precision_score(y_cls_test, y_hgb_pred))\n",
        "print(\"  Recall   :\", recall_score(y_cls_test, y_hgb_pred))\n",
        "print(\"  F1 Score :\", f1_score(y_cls_test, y_hgb_pred))\n",
        "print(\"  ROC AUC  :\", roc_auc_score(y_cls_test, y_hgb_proba))\n",
        "print(\"  Confusion Matrix:\\n\", confusion_matrix(y_cls_test, y_hgb_pred))\n"
      ],
      "metadata": {
        "colab": {
          "base_uri": "https://localhost:8080/"
        },
        "id": "wUmksr2cCdB2",
        "outputId": "09894e96-52e2-4b2b-b8d8-dc39613e1779"
      },
      "execution_count": null,
      "outputs": [
        {
          "output_type": "stream",
          "name": "stdout",
          "text": [
            "HistGradientBoostingClassifier Metrics:\n",
            "  Accuracy : 0.6454021038344079\n",
            "  Precision: 0.5993150684931506\n",
            "  Recall   : 0.6554307116104869\n",
            "  F1 Score : 0.6261180679785331\n",
            "  ROC AUC  : 0.6942272841330471\n",
            "  Confusion Matrix:\n",
            " [[1027  585]\n",
            " [ 460  875]]\n"
          ]
        }
      ]
    },
    {
      "cell_type": "code",
      "source": [
        "from sklearn.inspection import permutation_importance\n",
        "import pandas as pd\n",
        "import matplotlib.pyplot as plt\n",
        "\n",
        "# 1. Transform the test set using the pipeline’s preprocessor\n",
        "X_test_trans = hgb_clf.named_steps['preprocessor'].transform(X_cls_test)\n",
        "\n",
        "# 2. Compute permutation importances\n",
        "perm_res = permutation_importance(\n",
        "    hgb_clf.named_steps['hgb'],   # the trained HistGradientBoostingClassifier\n",
        "    X_test_trans,                 # transformed feature matrix\n",
        "    y_cls_test,                   # true binary labels\n",
        "    n_repeats=10,                 # number of shuffles per feature\n",
        "    random_state=42,\n",
        "    n_jobs=-1\n",
        ")\n",
        "\n",
        "# 3. Build a DataFrame of feature names and their importances, then sort descending\n",
        "feature_names = hgb_clf.named_steps['preprocessor'].get_feature_names_out()\n",
        "imp_df = pd.DataFrame({\n",
        "    'feature': feature_names,\n",
        "    'importance_mean': perm_res.importances_mean,\n",
        "    'importance_std': perm_res.importances_std\n",
        "}).sort_values('importance_mean', ascending=False).reset_index(drop=True)\n",
        "\n",
        "# 4. Display the top 8 features by mean importance\n",
        "print(imp_df.head(8))\n",
        "\n",
        "# 5. Extract the top 8 and prepare for horizontal bar plot\n",
        "top8 = imp_df.head(8)\n",
        "features = top8['feature'][::-1]\n",
        "means    = top8['importance_mean'][::-1]\n",
        "stds     = top8['importance_std'][::-1]\n",
        "\n",
        "# 6. Plot the top 8 permutation importances as a horizontal bar chart\n",
        "plt.figure(figsize=(8, 5))\n",
        "plt.barh(features, means, xerr=stds)\n",
        "plt.xlabel('Mean Decrease in Accuracy')\n",
        "plt.title('Top Feature Importances\\nHistGradientBoostingClassifier')\n",
        "plt.tight_layout()\n",
        "plt.show()\n",
        "\n"
      ],
      "metadata": {
        "colab": {
          "base_uri": "https://localhost:8080/",
          "height": 662
        },
        "id": "WW_jWfuY936U",
        "outputId": "db96ce25-df6a-4521-c3b8-7b74dfe51481"
      },
      "execution_count": null,
      "outputs": [
        {
          "output_type": "stream",
          "name": "stdout",
          "text": [
            "                           feature  importance_mean  importance_std\n",
            "0                   num__totalCost         0.081473        0.006981\n",
            "1  num__geoCentralizationIndex(KM)         0.056396        0.005694\n",
            "2           num__ecMaxContribution         0.027689        0.005946\n",
            "3        num__fundingEqualityIndex         0.019206        0.003501\n",
            "4             cat__sub_fund_code_1         0.010112        0.003254\n",
            "5             cat__sub_fund_code_3         0.008551        0.001381\n",
            "6             cat__sub_fund_code_6         0.006820        0.001645\n",
            "7        num__europeanCountryCount         0.005904        0.001738\n"
          ]
        },
        {
          "output_type": "display_data",
          "data": {
            "text/plain": [
              "<Figure size 800x500 with 1 Axes>"
            ],
            "image/png": "[encoded data removed]"
          },
          "metadata": {}
        }
      ]
    },
    {
      "cell_type": "code",
      "source": [
        "# === Cell 6: Logistic Regression Classifier ===\n",
        "\n",
        "from sklearn.linear_model import LogisticRegression\n",
        "from sklearn.pipeline import Pipeline\n",
        "from sklearn.metrics import (\n",
        "    accuracy_score, precision_score, recall_score,\n",
        "    f1_score, roc_auc_score, confusion_matrix\n",
        ")\n",
        "\n",
        "# Build and train pipeline\n",
        "logreg_clf = Pipeline([\n",
        "    ('preprocessor', preprocessor),\n",
        "    ('logreg', LogisticRegression(\n",
        "        class_weight='balanced',\n",
        "        max_iter=1000,\n",
        "        random_state=42\n",
        "    ))\n",
        "])\n",
        "logreg_clf.fit(X_cls_train, y_cls_train)\n",
        "\n",
        "# Evaluate on test set\n",
        "y_lr_pred  = logreg_clf.predict(X_cls_test)\n",
        "y_lr_proba = logreg_clf.predict_proba(X_cls_test)[:, 1]\n",
        "\n",
        "print(\"Logistic Regression Metrics:\")\n",
        "print(\"  Accuracy :\", accuracy_score(y_cls_test, y_lr_pred))\n",
        "print(\"  Precision:\", precision_score(y_cls_test, y_lr_pred))\n",
        "print(\"  Recall   :\", recall_score(y_cls_test, y_lr_pred))\n",
        "print(\"  F1 Score :\", f1_score(y_cls_test, y_lr_pred))\n",
        "print(\"  ROC AUC  :\", roc_auc_score(y_cls_test, y_lr_proba))\n",
        "print(\"  Confusion Matrix:\\n\", confusion_matrix(y_cls_test, y_lr_pred))\n"
      ],
      "metadata": {
        "colab": {
          "base_uri": "https://localhost:8080/"
        },
        "id": "i0jAwnyjHDo8",
        "outputId": "8f59f6ee-ce1c-422b-8fa6-7ef6d5003464"
      },
      "execution_count": null,
      "outputs": [
        {
          "output_type": "stream",
          "name": "stdout",
          "text": [
            "Logistic Regression Metrics:\n",
            "  Accuracy : 0.5883949779436716\n",
            "  Precision: 0.545727136431784\n",
            "  Recall   : 0.5453183520599251\n",
            "  F1 Score : 0.5455226676657924\n",
            "  ROC AUC  : 0.6022994674770681\n",
            "  Confusion Matrix:\n",
            " [[1006  606]\n",
            " [ 607  728]]\n"
          ]
        }
      ]
    },
    {
      "cell_type": "code",
      "source": [
        "# === Cell 7: ExtraTrees Classifier ===\n",
        "\n",
        "from sklearn.ensemble import ExtraTreesClassifier\n",
        "from sklearn.pipeline import Pipeline\n",
        "from sklearn.metrics import (\n",
        "    accuracy_score, precision_score, recall_score,\n",
        "    f1_score, roc_auc_score, confusion_matrix\n",
        ")\n",
        "\n",
        "# Build and train pipeline\n",
        "et_clf = Pipeline([\n",
        "    ('preprocessor', preprocessor),\n",
        "    ('et', ExtraTreesClassifier(\n",
        "        n_estimators=100,\n",
        "        class_weight='balanced',\n",
        "        random_state=42\n",
        "    ))\n",
        "])\n",
        "et_clf.fit(X_cls_train, y_cls_train)\n",
        "\n",
        "# Evaluate on test set\n",
        "y_et_pred  = et_clf.predict(X_cls_test)\n",
        "y_et_proba = et_clf.predict_proba(X_cls_test)[:, 1]\n",
        "\n",
        "print(\"ExtraTreesClassifier Metrics:\")\n",
        "print(\"  Accuracy :\", accuracy_score(y_cls_test, y_et_pred))\n",
        "print(\"  Precision:\", precision_score(y_cls_test, y_et_pred))\n",
        "print(\"  Recall   :\", recall_score(y_cls_test, y_et_pred))\n",
        "print(\"  F1 Score :\", f1_score(y_cls_test, y_et_pred))\n",
        "print(\"  ROC AUC  :\", roc_auc_score(y_cls_test, y_et_proba))\n",
        "print(\"  Confusion Matrix:\\n\", confusion_matrix(y_cls_test, y_et_pred))\n"
      ],
      "metadata": {
        "colab": {
          "base_uri": "https://localhost:8080/"
        },
        "id": "GesxnKpEHGY0",
        "outputId": "b31698f6-6f40-4324-d438-d81382640b24"
      },
      "execution_count": null,
      "outputs": [
        {
          "output_type": "stream",
          "name": "stdout",
          "text": [
            "ExtraTreesClassifier Metrics:\n",
            "  Accuracy : 0.5856803529012555\n",
            "  Precision: 0.5414244186046512\n",
            "  Recall   : 0.5580524344569289\n",
            "  F1 Score : 0.549612689044633\n",
            "  ROC AUC  : 0.6056881441622289\n",
            "  Confusion Matrix:\n",
            " [[981 631]\n",
            " [590 745]]\n"
          ]
        }
      ]
    },
    {
      "cell_type": "code",
      "source": [
        "# === Cell 8: AdaBoost Classifier ===\n",
        "\n",
        "from sklearn.ensemble import AdaBoostClassifier\n",
        "from sklearn.pipeline import Pipeline\n",
        "from sklearn.metrics import (\n",
        "    accuracy_score, precision_score, recall_score,\n",
        "    f1_score, roc_auc_score, confusion_matrix\n",
        ")\n",
        "\n",
        "# Build and train AdaBoost pipeline\n",
        "ada_clf = Pipeline([\n",
        "    ('preprocessor', preprocessor),\n",
        "    ('ada', AdaBoostClassifier(\n",
        "        n_estimators=100,\n",
        "        random_state=42\n",
        "    ))\n",
        "])\n",
        "ada_clf.fit(X_cls_train, y_cls_train)\n",
        "\n",
        "# Evaluate on test set\n",
        "y_ada_pred  = ada_clf.predict(X_cls_test)\n",
        "y_ada_proba = ada_clf.predict_proba(X_cls_test)[:, 1]\n",
        "\n",
        "print(\"AdaBoostClassifier Metrics:\")\n",
        "print(\"  Accuracy :\", accuracy_score(y_cls_test, y_ada_pred))\n",
        "print(\"  Precision:\", precision_score(y_cls_test, y_ada_pred))\n",
        "print(\"  Recall   :\", recall_score(y_cls_test, y_ada_pred))\n",
        "print(\"  F1 Score :\", f1_score(y_cls_test, y_ada_pred))\n",
        "print(\"  ROC AUC  :\", roc_auc_score(y_cls_test, y_ada_proba))\n",
        "print(\"  Confusion Matrix:\\n\", confusion_matrix(y_cls_test, y_ada_pred))\n"
      ],
      "metadata": {
        "colab": {
          "base_uri": "https://localhost:8080/"
        },
        "id": "G1D4aJLQHZ1P",
        "outputId": "e008d5c3-f16d-40c3-c758-e02fc10048cc"
      },
      "execution_count": null,
      "outputs": [
        {
          "output_type": "stream",
          "name": "stdout",
          "text": [
            "AdaBoostClassifier Metrics:\n",
            "  Accuracy : 0.5965388530709196\n",
            "  Precision: 0.5695238095238095\n",
            "  Recall   : 0.44794007490636706\n",
            "  F1 Score : 0.5014675052410902\n",
            "  ROC AUC  : 0.6409794053958606\n",
            "  Confusion Matrix:\n",
            " [[1160  452]\n",
            " [ 737  598]]\n"
          ]
        }
      ]
    },
    {
      "cell_type": "code",
      "source": [
        "# === Cell 9: MLP (Neural Network) Classifier ===\n",
        "\n",
        "from sklearn.neural_network import MLPClassifier\n",
        "from sklearn.pipeline import Pipeline\n",
        "from sklearn.metrics import (\n",
        "    accuracy_score, precision_score, recall_score,\n",
        "    f1_score, roc_auc_score, confusion_matrix\n",
        ")\n",
        "\n",
        "# Build and train MLP pipeline\n",
        "mlp_clf = Pipeline([\n",
        "    ('preprocessor', preprocessor),\n",
        "    ('mlp', MLPClassifier(\n",
        "        hidden_layer_sizes=(100,),\n",
        "        max_iter=300,\n",
        "        random_state=42\n",
        "    ))\n",
        "])\n",
        "mlp_clf.fit(X_cls_train, y_cls_train)\n",
        "\n",
        "# Evaluate on test set\n",
        "y_mlp_pred  = mlp_clf.predict(X_cls_test)\n",
        "y_mlp_proba = mlp_clf.predict_proba(X_cls_test)[:, 1]\n",
        "\n",
        "print(\"MLPClassifier Metrics:\")\n",
        "print(\"  Accuracy :\", accuracy_score(y_cls_test, y_mlp_pred))\n",
        "print(\"  Precision:\", precision_score(y_cls_test, y_mlp_pred))\n",
        "print(\"  Recall   :\", recall_score(y_cls_test, y_mlp_pred))\n",
        "print(\"  F1 Score :\", f1_score(y_cls_test, y_mlp_pred))\n",
        "print(\"  ROC AUC  :\", roc_auc_score(y_cls_test, y_mlp_proba))\n",
        "print(\"  Confusion Matrix:\\n\", confusion_matrix(y_cls_test, y_mlp_pred))\n"
      ],
      "metadata": {
        "colab": {
          "base_uri": "https://localhost:8080/"
        },
        "id": "wynl2gUNHgJZ",
        "outputId": "927c5a9d-2503-471e-cbcb-fb1283406921"
      },
      "execution_count": null,
      "outputs": [
        {
          "output_type": "stream",
          "name": "stdout",
          "text": [
            "MLPClassifier Metrics:\n",
            "  Accuracy : 0.5938242280285035\n",
            "  Precision: 0.5721757322175732\n",
            "  Recall   : 0.40973782771535583\n",
            "  F1 Score : 0.47752073330423395\n",
            "  ROC AUC  : 0.6095791395990743\n",
            "  Confusion Matrix:\n",
            " [[1203  409]\n",
            " [ 788  547]]\n"
          ]
        },
        {
          "output_type": "stream",
          "name": "stderr",
          "text": [
            "/usr/local/lib/python3.11/dist-packages/sklearn/neural_network/_multilayer_perceptron.py:691: ConvergenceWarning: Stochastic Optimizer: Maximum iterations (300) reached and the optimization hasn't converged yet.\n",
            "  warnings.warn(\n"
          ]
        }
      ]
    },
    {
      "cell_type": "code",
      "source": [
        "# === Cell 10: HistGradientBoostingRegressor for regression ===\n",
        "\n",
        "from sklearn.ensemble import HistGradientBoostingRegressor\n",
        "from sklearn.pipeline import Pipeline\n",
        "from sklearn.metrics import mean_squared_error, r2_score\n",
        "\n",
        "# Build the regression pipeline reusing the existing preprocessor\n",
        "hgb_reg = Pipeline([\n",
        "    ('preprocessor', preprocessor),\n",
        "    ('hgb_reg', HistGradientBoostingRegressor(random_state=42))\n",
        "])\n",
        "\n",
        "# Train on the positive-sample training split\n",
        "hgb_reg.fit(X_reg_train, y_reg_train)\n",
        "\n",
        "# Predict on the regression test set\n",
        "y_hgb_pred = hgb_reg.predict(X_reg_test)\n",
        "\n",
        "# Calculate and print evaluation metrics\n",
        "mse  = mean_squared_error(y_reg_test, y_hgb_pred)\n",
        "rmse = mse ** 0.5\n",
        "r2   = r2_score(y_reg_test, y_hgb_pred)\n",
        "\n",
        "print(\"HistGradientBoostingRegressor Metrics:\")\n",
        "print(f\"  RMSE: {rmse:.6f}\")\n",
        "print(f\"  R2  : {r2:.4f}\")\n"
      ],
      "metadata": {
        "colab": {
          "base_uri": "https://localhost:8080/"
        },
        "id": "DgwBCr1DHx4H",
        "outputId": "94a69965-a996-492f-92e0-0801e89f2932"
      },
      "execution_count": null,
      "outputs": [
        {
          "output_type": "stream",
          "name": "stdout",
          "text": [
            "HistGradientBoostingRegressor Metrics:\n",
            "  RMSE: 0.017020\n",
            "  R2  : 0.2837\n"
          ]
        }
      ]
    },
    {
      "cell_type": "code",
      "source": [
        "# === Cell 11: RandomForestRegressor for regression ===\n",
        "\n",
        "from sklearn.ensemble import RandomForestRegressor\n",
        "from sklearn.pipeline import Pipeline\n",
        "from sklearn.metrics import mean_squared_error, r2_score\n",
        "\n",
        "# Build and train the RandomForest regressor pipeline\n",
        "rf_reg = Pipeline([\n",
        "    ('preprocessor', preprocessor),\n",
        "    ('rf_reg', RandomForestRegressor(n_estimators=100, random_state=42))\n",
        "])\n",
        "rf_reg.fit(X_reg_train, y_reg_train)\n",
        "\n",
        "# Predict and evaluate\n",
        "y_rf_pred = rf_reg.predict(X_reg_test)\n",
        "mse = mean_squared_error(y_reg_test, y_rf_pred)\n",
        "rmse = mse ** 0.5\n",
        "r2 = r2_score(y_reg_test, y_rf_pred)\n",
        "\n",
        "print(\"RandomForestRegressor Metrics:\")\n",
        "print(f\"  RMSE: {rmse:.6f}\")\n",
        "print(f\"  R2  : {r2:.4f}\")\n"
      ],
      "metadata": {
        "colab": {
          "base_uri": "https://localhost:8080/"
        },
        "id": "4YgvdHliIbMY",
        "outputId": "ec89ac50-2856-427c-8aa9-a1c2d50d7ab1"
      },
      "execution_count": null,
      "outputs": [
        {
          "output_type": "stream",
          "name": "stdout",
          "text": [
            "RandomForestRegressor Metrics:\n",
            "  RMSE: 0.016592\n",
            "  R2  : 0.3193\n"
          ]
        }
      ]
    },
    {
      "cell_type": "code",
      "source": [
        "# === Cell 12: Ridge Regression with cross-validation ===\n",
        "\n",
        "from sklearn.linear_model import RidgeCV\n",
        "from sklearn.pipeline import Pipeline\n",
        "from sklearn.metrics import mean_squared_error, r2_score\n",
        "\n",
        "# Build and train the Ridge regression pipeline with internal CV\n",
        "ridge_reg = Pipeline([\n",
        "    ('preprocessor', preprocessor),\n",
        "    ('ridge', RidgeCV(alphas=[0.01, 0.1, 1.0, 10.0], cv=5))\n",
        "])\n",
        "ridge_reg.fit(X_reg_train, y_reg_train)\n",
        "\n",
        "# Predict and evaluate\n",
        "y_ridge_pred = ridge_reg.predict(X_reg_test)\n",
        "mse = mean_squared_error(y_reg_test, y_ridge_pred)\n",
        "rmse = mse ** 0.5\n",
        "r2 = r2_score(y_reg_test, y_ridge_pred)\n",
        "\n",
        "print(\"RidgeCV Regression Metrics:\")\n",
        "print(f\"  RMSE: {rmse:.6f}\")\n",
        "print(f\"  R2  : {r2:.4f}\")\n"
      ],
      "metadata": {
        "colab": {
          "base_uri": "https://localhost:8080/"
        },
        "id": "d1z1K0udI5YS",
        "outputId": "67277bac-9d43-4f06-9575-265e2ca85b8b"
      },
      "execution_count": null,
      "outputs": [
        {
          "output_type": "stream",
          "name": "stdout",
          "text": [
            "RidgeCV Regression Metrics:\n",
            "  RMSE: 0.017020\n",
            "  R2  : 0.2837\n"
          ]
        }
      ]
    },
    {
      "cell_type": "code",
      "source": [
        "# === Cell 13: K-Nearest Neighbors Regressor ===\n",
        "\n",
        "from sklearn.neighbors import KNeighborsRegressor\n",
        "from sklearn.pipeline import Pipeline\n",
        "from sklearn.metrics import mean_squared_error, r2_score\n",
        "\n",
        "# Build and train KNN regression pipeline\n",
        "knn_reg = Pipeline([\n",
        "    ('preprocessor', preprocessor),\n",
        "    ('knn', KNeighborsRegressor(\n",
        "        n_neighbors=5,\n",
        "        weights='distance'\n",
        "    ))\n",
        "])\n",
        "knn_reg.fit(X_reg_train, y_reg_train)\n",
        "\n",
        "# Predict and evaluate\n",
        "y_knn_pred = knn_reg.predict(X_reg_test)\n",
        "mse = mean_squared_error(y_reg_test, y_knn_pred)\n",
        "rmse = mse ** 0.5\n",
        "r2  = r2_score(y_reg_test, y_knn_pred)\n",
        "\n",
        "print(\"KNN Regressor Metrics:\")\n",
        "print(f\"  RMSE: {rmse:.6f}\")\n",
        "print(f\"  R2  : {r2:.4f}\")\n"
      ],
      "metadata": {
        "colab": {
          "base_uri": "https://localhost:8080/"
        },
        "id": "eDXRmj69Jk0n",
        "outputId": "613727bb-eed9-48dc-d75a-094880f9d7ab"
      },
      "execution_count": null,
      "outputs": [
        {
          "output_type": "stream",
          "name": "stdout",
          "text": [
            "KNN Regressor Metrics:\n",
            "  RMSE: 0.017305\n",
            "  R2  : 0.2595\n"
          ]
        }
      ]
    },
    {
      "cell_type": "code",
      "source": [
        "# === Cell 14: Support Vector Regressor (SVR) ===\n",
        "\n",
        "from sklearn.svm import SVR\n",
        "from sklearn.pipeline import Pipeline\n",
        "from sklearn.metrics import mean_squared_error, r2_score\n",
        "\n",
        "# Build and train SVR pipeline\n",
        "svr_reg = Pipeline([\n",
        "    ('preprocessor', preprocessor),\n",
        "    ('svr', SVR(\n",
        "        kernel='rbf',\n",
        "        C=1.0,\n",
        "        epsilon=0.01\n",
        "    ))\n",
        "])\n",
        "svr_reg.fit(X_reg_train, y_reg_train)\n",
        "\n",
        "# Predict and evaluate\n",
        "y_svr_pred = svr_reg.predict(X_reg_test)\n",
        "mse = mean_squared_error(y_reg_test, y_svr_pred)\n",
        "rmse = mse ** 0.5\n",
        "r2  = r2_score(y_reg_test, y_svr_pred)\n",
        "\n",
        "print(\"SVR Metrics:\")\n",
        "print(f\"  RMSE: {rmse:.6f}\")\n",
        "print(f\"  R2  : {r2:.4f}\")\n"
      ],
      "metadata": {
        "colab": {
          "base_uri": "https://localhost:8080/"
        },
        "id": "KWNCBGcbKKwp",
        "outputId": "0b1b9b5e-f540-44f8-bc1c-f1cac1d0f9aa"
      },
      "execution_count": null,
      "outputs": [
        {
          "output_type": "stream",
          "name": "stdout",
          "text": [
            "SVR Metrics:\n",
            "  RMSE: 0.018357\n",
            "  R2  : 0.1668\n"
          ]
        }
      ]
    }
  ]
}